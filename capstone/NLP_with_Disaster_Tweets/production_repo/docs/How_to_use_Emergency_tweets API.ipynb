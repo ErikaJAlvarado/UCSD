{
 "cells": [
  {
   "cell_type": "markdown",
   "id": "f019a422-8139-4160-9e5a-8724ab14cd17",
   "metadata": {},
   "source": [
    "# **Tweeter disaster/emergency classificaton** #"
   ]
  },
  {
   "cell_type": "markdown",
   "id": "1a9477a5-6d6b-4021-a4a3-ae1d87e5488c",
   "metadata": {},
   "source": [
    "##### **Description:**  The purpose of this document is to demonstrate how to run an API that returns tweets classified as emergency-disaster #####"
   ]
  },
  {
   "cell_type": "markdown",
   "id": "fd3c1b33-d58b-444b-bc79-b927b0b1514a",
   "metadata": {},
   "source": [
    "##### **1. Importing libraries** #####"
   ]
  },
  {
   "cell_type": "code",
   "execution_count": 20,
   "id": "df318369-44e9-4a42-acbb-c36976046c43",
   "metadata": {},
   "outputs": [],
   "source": [
    "import requests"
   ]
  },
  {
   "cell_type": "markdown",
   "id": "1fbc6100-ff64-4cf8-81d3-8b791e28fa01",
   "metadata": {},
   "source": [
    "This API runs on a localmachine..  Run the script below in command line to start the Flask server\n",
    "./production_repo/API/run_twitter_disaster.sh"
   ]
  },
  {
   "cell_type": "markdown",
   "id": "be96d453-66d6-4046-9960-8880df2440d9",
   "metadata": {},
   "source": [
    "##### **A parameter is required to filter disaster tweets by type of emergency** #####"
   ]
  },
  {
   "cell_type": "code",
   "execution_count": null,
   "id": "fcf287ca-bf9e-429a-9167-8e485836b6db",
   "metadata": {},
   "outputs": [],
   "source": [
    "input_text = \"fire\""
   ]
  },
  {
   "cell_type": "code",
   "execution_count": 17,
   "id": "5e50da86-c522-4070-830d-2c13e20c3689",
   "metadata": {},
   "outputs": [],
   "source": [
    "URL = \"http://127.0.0.1:5001/twitter_emergency_api/\""
   ]
  },
  {
   "cell_type": "markdown",
   "id": "07ccfb99-8d1c-47dd-9099-a3736c534d0d",
   "metadata": {},
   "source": [
    "##### **Sending request** #####"
   ]
  },
  {
   "cell_type": "code",
   "execution_count": 21,
   "id": "548e80e8-2df7-4370-81ab-a377ba2852c1",
   "metadata": {},
   "outputs": [
    {
     "name": "stdout",
     "output_type": "stream",
     "text": [
      "sending: http://127.0.0.1:5001/twitter_emergency_api/fire\n"
     ]
    }
   ],
   "source": [
    "final_url = URL + input_text\n",
    "print('sending:', final_url)\n",
    "r = requests.get(url = FINAL_URL)"
   ]
  },
  {
   "cell_type": "markdown",
   "id": "b4d096c8-44b7-4dc8-8838-9bdd73073b03",
   "metadata": {},
   "source": [
    "##### **Response** #####"
   ]
  },
  {
   "cell_type": "markdown",
   "id": "b79a072f-e8cf-4f60-b8bf-39dcdfdb744e",
   "metadata": {},
   "source": [
    "###### Response returns: ######\n",
    "###### -tweet text ######\n",
    "###### -disaster prob: probability of emergency returned by the NLP model ######\n",
    "###### -disaster type: type 2 are disaster with higher certainty of being an emergency an disaster type 1 has a lower certainty of being an emergency.######"
   ]
  },
  {
   "cell_type": "code",
   "execution_count": 15,
   "id": "0cbe7953-d7d1-4aba-abc2-9ae8280b4424",
   "metadata": {},
   "outputs": [
    {
     "name": "stdout",
     "output_type": "stream",
     "text": [
      "success: [\n",
      "  {\n",
      "    \"disaster_prob\": \"0.9987358\",\n",
      "    \"disaster_type\": \"2\",\n",
      "    \"text\": \"forest fire california fire rage forest servic sound alarm sharpli rise wildfir cost\"\n",
      "  },\n",
      "  {\n",
      "    \"disaster_prob\": \"0.9981278\",\n",
      "    \"disaster_type\": \"2\",\n",
      "    \"text\": \"wild fire wild fire freak fuck like hell\"\n",
      "  },\n",
      "  {\n",
      "    \"disaster_prob\": \"0.8637961\",\n",
      "    \"disaster_type\": \"2\",\n",
      "    \"text\": \"engulf fulli engulf garag fire propan tank insid sunnymead dr\"\n",
      "  },\n",
      "  {\n",
      "    \"disaster_prob\": \"0.9949254\",\n",
      "    \"disaster_type\": \"2\",\n",
      "    \"text\": \"arson relaxinpr miprv rt latim arson suspect link fire caught northern california\"\n",
      "  },\n",
      "  {\n",
      "    \"disaster_prob\": \"0.99865925\",\n",
      "    \"disaster_type\": \"2\",\n",
      "    \"text\": \"evacu new evacu order home danger hwi fire near roosevelt wash koin news\"\n",
      "  },\n",
      "  {\n",
      "    \"disaster_prob\": \"0.9317743\",\n",
      "    \"disaster_type\": \"2\",\n",
      "    \"text\": \"forest fire like youtub video j cole fire squad forest hill drive\"\n",
      "  },\n",
      "  {\n",
      "    \"disaster_prob\": \"0.99747753\",\n",
      "    \"disaster_type\": \"2\",\n",
      "    \"text\": \"polic polic kill hatchet wield gunman open fire insid nashvil movi theater a \"\n",
      "  },\n",
      "  {\n",
      "    \"disaster_prob\": \"0.9982734\",\n",
      "    \"disaster_type\": \"2\",\n",
      "    \"text\": \"flame soloquiero maryland mansion fire kill caus damag plug christma tree report say flame firefight\"\n",
      "  },\n",
      "  {\n",
      "    \"disaster_prob\": \"0.9978518\",\n",
      "    \"disaster_type\": \"2\",\n",
      "    \"text\": \"fire truck found cool photo mine dodg wayn bodi window bu ex libbi mt fire depart truck ori \"\n",
      "  },\n",
      "  {\n",
      "    \"disaster_prob\": \"0.9761863\",\n",
      "    \"disaster_type\": \"2\",\n",
      "    \"text\": \"forest fire care anyon live west beaverton forest grove rapidli spread fire head east\"\n",
      "  },\n",
      "  {\n",
      "    \"disaster_prob\": \"0.9985229\",\n",
      "    \"disaster_type\": \"2\",\n",
      "    \"text\": \"wildfir drone fire offici offer reward lead pilot flew wildfir photographi art\"\n",
      "  },\n",
      "  {\n",
      "    \"disaster_prob\": \"0.99871045\",\n",
      "    \"disaster_type\": \"2\",\n",
      "    \"text\": \"evacu rocki fire northern california swell acr evacu portland phoenix miami atlanta casper\"\n",
      "  },\n",
      "  {\n",
      "    \"disaster_prob\": \"0.89519286\",\n",
      "    \"disaster_type\": \"2\",\n",
      "    \"text\": \"forest fire start forest fire put\"\n",
      "  },\n",
      "  {\n",
      "    \"disaster_prob\": \"0.80705494\",\n",
      "    \"disaster_type\": \"2\",\n",
      "    \"text\": \"forest fire littl concern number forest fire live\"\n",
      "  },\n",
      "  {\n",
      "    \"disaster_prob\": \"0.99824035\",\n",
      "    \"disaster_type\": \"2\",\n",
      "    \"text\": \"displac displac ocean township apart fire newyork\"\n",
      "  },\n",
      "  {\n",
      "    \"disaster_prob\": \"0.88326436\",\n",
      "    \"disaster_type\": \"2\",\n",
      "    \"text\": \"fire truck came across fire video mine enjoy babe way say hi fire truck fireman  \"\n",
      "  },\n",
      "  {\n",
      "    \"disaster_prob\": \"0.5987518\",\n",
      "    \"disaster_type\": \"1\",\n",
      "    \"text\": \"fire truck former township fire truck use philippin township langley assist fire chief pat walker spen\"\n",
      "  },\n",
      "  {\n",
      "    \"disaster_prob\": \"0.99866056\",\n",
      "    \"disaster_type\": \"2\",\n",
      "    \"text\": \"wild fire europ natur kind us tornado hurrican wild fire earthquak flash flood mega snow drought\"\n",
      "  },\n",
      "  {\n",
      "    \"disaster_prob\": \"0.9987018\",\n",
      "    \"disaster_type\": \"2\",\n",
      "    \"text\": \"ablaz rockyfir updat california hwi close direct due lake counti fire cafir wildfir\"\n",
      "  },\n",
      "  {\n",
      "    \"disaster_prob\": \"0.9674568\",\n",
      "    \"disaster_type\": \"2\",\n",
      "    \"text\": \"fire truck fire call brant av drummond rd fire structur singl unit car call truck\"\n",
      "  },\n",
      "  {\n",
      "    \"disaster_prob\": \"0.9983705\",\n",
      "    \"disaster_type\": \"2\",\n",
      "    \"text\": \"wild fire map show california wild fire burn map creat cal fire \"\n",
      "  },\n",
      "  {\n",
      "    \"disaster_prob\": \"0.9985678\",\n",
      "    \"disaster_type\": \"2\",\n",
      "    \"text\": \"wild fire foxdebatequest degre obama effort institut sharia law exacerb california wild fire\"\n",
      "  },\n",
      "  {\n",
      "    \"disaster_prob\": \"0.94289964\",\n",
      "    \"disaster_type\": \"2\",\n",
      "    \"text\": \"fire truck brooktekl look like murder scene cop fire truck fire assist car along helicopt\"\n",
      "  }\n",
      "]\n",
      "\n"
     ]
    }
   ],
   "source": [
    "if str(r) == '<Response [200]>':    \n",
    "    print('data:', r.text)\n",
    "else:\n",
    "    print('error!', str(r))"
   ]
  },
  {
   "cell_type": "code",
   "execution_count": null,
   "id": "50e4adbd-6504-48a4-a443-53828386930f",
   "metadata": {},
   "outputs": [],
   "source": []
  },
  {
   "cell_type": "code",
   "execution_count": null,
   "id": "9ca4257a-3685-423e-81f0-a94490944671",
   "metadata": {},
   "outputs": [],
   "source": []
  },
  {
   "cell_type": "code",
   "execution_count": null,
   "id": "1ce2d5ac-bb4d-4e0c-979e-5e7b27acea00",
   "metadata": {},
   "outputs": [],
   "source": []
  }
 ],
 "metadata": {
  "kernelspec": {
   "display_name": "Python 3 (ipykernel)",
   "language": "python",
   "name": "python3"
  },
  "language_info": {
   "codemirror_mode": {
    "name": "ipython",
    "version": 3
   },
   "file_extension": ".py",
   "mimetype": "text/x-python",
   "name": "python",
   "nbconvert_exporter": "python",
   "pygments_lexer": "ipython3",
   "version": "3.10.6"
  }
 },
 "nbformat": 4,
 "nbformat_minor": 5
}

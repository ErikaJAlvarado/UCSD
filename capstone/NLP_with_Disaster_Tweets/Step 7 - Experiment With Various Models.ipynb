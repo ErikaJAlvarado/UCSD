{
 "cells": [
  {
   "cell_type": "markdown",
   "id": "61e19aed-1955-4342-b55d-46556e52bfb0",
   "metadata": {},
   "source": [
    " # **Step 7: Experiment With Various Models** #"
   ]
  },
  {
   "cell_type": "code",
   "execution_count": 1,
   "id": "d98fba48-2fbe-4aa3-a3e6-584a1dd44c4b",
   "metadata": {},
   "outputs": [],
   "source": [
    "#https://www.researchgate.net/publication/279994960_Classification_of_emergency_situations_-_Klasifikacija_vanrednih_situacija\n",
    "#https://www.cs.uic.edu/~cornelia/papers/mlsc10.pdf\n",
    "#https://towardsdatascience.com/detecting-disaster-from-tweets-classical-ml-and-lstm-approach-4566871af5f7\n",
    "#https://deepnote.com/@abid/Disaster-tweet-classification-64278d77-b455-4fcb-b98a-076ff504a9ee\n"
   ]
  },
  {
   "cell_type": "code",
   "execution_count": 8,
   "id": "69747867-8ec1-4323-b98d-c1df1dc98eb4",
   "metadata": {},
   "outputs": [],
   "source": [
    "import os\n",
    "import pickle\n",
    "import pandas as pd"
   ]
  },
  {
   "cell_type": "code",
   "execution_count": 9,
   "id": "74ff7f05-e0dd-46ed-9f96-1f6865da89fa",
   "metadata": {},
   "outputs": [],
   "source": [
    "#Loading data\n",
    "directory = \"/home/erika/UCSD/UCSD/capstone/NLP_with_Disaster_Tweets/data/tweeter_disaster_text_analysis\"\n",
    "data_pickle = os.path.join(directory,\"training_data.pkl\")\n",
    "\n",
    "data_df = pd.read_pickle(data_pickle)"
   ]
  },
  {
   "cell_type": "code",
   "execution_count": 10,
   "id": "b879c778-3c42-4642-be34-e0d214a20ae2",
   "metadata": {},
   "outputs": [
    {
     "data": {
      "text/html": [
       "<div>\n",
       "<style scoped>\n",
       "    .dataframe tbody tr th:only-of-type {\n",
       "        vertical-align: middle;\n",
       "    }\n",
       "\n",
       "    .dataframe tbody tr th {\n",
       "        vertical-align: top;\n",
       "    }\n",
       "\n",
       "    .dataframe thead th {\n",
       "        text-align: right;\n",
       "    }\n",
       "</style>\n",
       "<table border=\"1\" class=\"dataframe\">\n",
       "  <thead>\n",
       "    <tr style=\"text-align: right;\">\n",
       "      <th></th>\n",
       "      <th>id</th>\n",
       "      <th>keyword</th>\n",
       "      <th>location</th>\n",
       "      <th>text</th>\n",
       "      <th>target</th>\n",
       "      <th>clean_text</th>\n",
       "      <th>clean_keyword</th>\n",
       "    </tr>\n",
       "  </thead>\n",
       "  <tbody>\n",
       "    <tr>\n",
       "      <th>0</th>\n",
       "      <td>1</td>\n",
       "      <td>ablaze</td>\n",
       "      <td>Birmingham</td>\n",
       "      <td>our deeds are the reason of this #earthquake m...</td>\n",
       "      <td>1</td>\n",
       "      <td>deed reason earthquak may allah forgiv us</td>\n",
       "      <td>ablaz</td>\n",
       "    </tr>\n",
       "    <tr>\n",
       "      <th>1</th>\n",
       "      <td>4</td>\n",
       "      <td>ablaze</td>\n",
       "      <td>Est. September 2012 - Bristol</td>\n",
       "      <td>forest fire near la ronge sask. canada</td>\n",
       "      <td>1</td>\n",
       "      <td>forest fire near la rong sask canada</td>\n",
       "      <td>ablaz</td>\n",
       "    </tr>\n",
       "    <tr>\n",
       "      <th>2</th>\n",
       "      <td>5</td>\n",
       "      <td>ablaze</td>\n",
       "      <td>AFRICA</td>\n",
       "      <td>all residents asked to 'shelter in place' are ...</td>\n",
       "      <td>1</td>\n",
       "      <td>resid ask shelter place notifi offic evacu she...</td>\n",
       "      <td>ablaz</td>\n",
       "    </tr>\n",
       "    <tr>\n",
       "      <th>3</th>\n",
       "      <td>6</td>\n",
       "      <td>ablaze</td>\n",
       "      <td>\"Philadelphia, PA\"</td>\n",
       "      <td>\"13,000 people receive #wildfires evacuation o...</td>\n",
       "      <td>1</td>\n",
       "      <td>peopl receiv wildfir evacu order california</td>\n",
       "      <td>ablaz</td>\n",
       "    </tr>\n",
       "    <tr>\n",
       "      <th>4</th>\n",
       "      <td>7</td>\n",
       "      <td>ablaze</td>\n",
       "      <td>\"London, UK\"</td>\n",
       "      <td>just got sent this photo from ruby #alaska as ...</td>\n",
       "      <td>1</td>\n",
       "      <td>got sent photo rubi alaska smoke wildfir pour ...</td>\n",
       "      <td>ablaz</td>\n",
       "    </tr>\n",
       "  </tbody>\n",
       "</table>\n",
       "</div>"
      ],
      "text/plain": [
       "  id keyword                       location  \\\n",
       "0  1  ablaze                     Birmingham   \n",
       "1  4  ablaze  Est. September 2012 - Bristol   \n",
       "2  5  ablaze                         AFRICA   \n",
       "3  6  ablaze             \"Philadelphia, PA\"   \n",
       "4  7  ablaze                   \"London, UK\"   \n",
       "\n",
       "                                                text  target  \\\n",
       "0  our deeds are the reason of this #earthquake m...       1   \n",
       "1             forest fire near la ronge sask. canada       1   \n",
       "2  all residents asked to 'shelter in place' are ...       1   \n",
       "3  \"13,000 people receive #wildfires evacuation o...       1   \n",
       "4  just got sent this photo from ruby #alaska as ...       1   \n",
       "\n",
       "                                          clean_text clean_keyword  \n",
       "0          deed reason earthquak may allah forgiv us         ablaz  \n",
       "1               forest fire near la rong sask canada         ablaz  \n",
       "2  resid ask shelter place notifi offic evacu she...         ablaz  \n",
       "3        peopl receiv wildfir evacu order california         ablaz  \n",
       "4  got sent photo rubi alaska smoke wildfir pour ...         ablaz  "
      ]
     },
     "execution_count": 10,
     "metadata": {},
     "output_type": "execute_result"
    }
   ],
   "source": [
    "data_df.head()"
   ]
  },
  {
   "cell_type": "markdown",
   "id": "aa3d223c-bf23-47dd-bbb6-8f7e2e0a9a78",
   "metadata": {},
   "source": [
    "# **CountVectorizer - Document-Term matrix** #"
   ]
  },
  {
   "cell_type": "code",
   "execution_count": 11,
   "id": "d8c5c033-c537-4f56-a204-7d2800472e47",
   "metadata": {},
   "outputs": [],
   "source": [
    "from sklearn.feature_extraction.text import CountVectorizer\n",
    "\n",
    "data_df[\"feature\"] = data_df[\"clean_keyword\"] + \" \" + data_df[\"clean_text\"]\n",
    "\n",
    "cv = CountVectorizer()\n",
    "X = cv.fit(data_df[\"feature\"])\n",
    "X = cv.transform(data_df[\"feature\"])\n",
    "y = data_df[\"target\"]"
   ]
  },
  {
   "cell_type": "markdown",
   "id": "a468d6f3-e36e-4f42-83ef-94ac5c13c625",
   "metadata": {},
   "source": [
    "# **Training/Test data split** #"
   ]
  },
  {
   "cell_type": "code",
   "execution_count": 12,
   "id": "c3762602-4671-4703-a446-80a6b20ecbf3",
   "metadata": {},
   "outputs": [],
   "source": [
    "from sklearn.model_selection import train_test_split\n",
    "\n",
    "X_train, X_test, y_train, y_test = train_test_split(X, y , test_size = .2, random_state = 17)"
   ]
  },
  {
   "cell_type": "markdown",
   "id": "20be55eb-a73f-42cb-8679-380225057c63",
   "metadata": {},
   "source": [
    "# **Gradient Boosting Classifier** #"
   ]
  },
  {
   "cell_type": "code",
   "execution_count": null,
   "id": "57ec133d-bba6-46b5-a679-24a06e9efceb",
   "metadata": {},
   "outputs": [],
   "source": [
    "from sklearn import ensemble, metrics\n",
    "model = ensemble.GradientBoostingClassifier(learning_rate=0.1, max_depth =9)\n",
    "model.fit(X_train, y_train)"
   ]
  },
  {
   "cell_type": "code",
   "execution_count": 19,
   "id": "939457e7-be28-4f7d-9fed-6d6ed83104c9",
   "metadata": {},
   "outputs": [],
   "source": [
    "y_pred = model.predict(X_test)"
   ]
  },
  {
   "cell_type": "code",
   "execution_count": 21,
   "id": "68beabc2-7a08-49e4-ac9b-a4f426c6561d",
   "metadata": {},
   "outputs": [
    {
     "name": "stdout",
     "output_type": "stream",
     "text": [
      "0.7844429795649308\n"
     ]
    }
   ],
   "source": [
    "accuracy = metrics.accuracy_score(y_pred, y_test)\n",
    "print(accuracy)"
   ]
  },
  {
   "cell_type": "markdown",
   "id": "c03b19d1-92d4-4113-a56a-081d0a4a302d",
   "metadata": {},
   "source": [
    "# **LSTM** #"
   ]
  },
  {
   "cell_type": "code",
   "execution_count": null,
   "id": "de225f52-6b47-4415-bc45-ca52b0ffb4bd",
   "metadata": {},
   "outputs": [],
   "source": []
  }
 ],
 "metadata": {
  "kernelspec": {
   "display_name": "Python 3 (ipykernel)",
   "language": "python",
   "name": "python3"
  },
  "language_info": {
   "codemirror_mode": {
    "name": "ipython",
    "version": 3
   },
   "file_extension": ".py",
   "mimetype": "text/x-python",
   "name": "python",
   "nbconvert_exporter": "python",
   "pygments_lexer": "ipython3",
   "version": "3.10.4"
  }
 },
 "nbformat": 4,
 "nbformat_minor": 5
}

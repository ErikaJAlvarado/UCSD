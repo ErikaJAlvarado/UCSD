{
 "cells": [
  {
   "cell_type": "markdown",
   "id": "0123f15d-c7f6-4e89-af33-8ed3c2414d57",
   "metadata": {},
   "source": [
    "# **Step 11: Pick Your Deployment Method** #"
   ]
  },
  {
   "cell_type": "markdown",
   "id": "d22cb25f-5669-4980-a16f-a8a39e4414d2",
   "metadata": {},
   "source": [
    "A shortlist of your next steps regarding deployment and engineering. Please\n",
    "discuss with your mentor to decide deployment methods."
   ]
  },
  {
   "cell_type": "markdown",
   "id": "7cac917d-a210-4199-bb84-c5fcdcc8e770",
   "metadata": {},
   "source": [
    "#### **Engineering** ####"
   ]
  },
  {
   "cell_type": "markdown",
   "id": "a90ad5ff-af7d-4bfb-9a80-19a3d3dfcec4",
   "metadata": {},
   "source": [
    "Next steps: "
   ]
  },
  {
   "cell_type": "raw",
   "id": "dd0d6964-3388-4830-85b2-64e576d7fd28",
   "metadata": {},
   "source": [
    "Cleaning\n",
    "\n",
    "-accented characters\n",
    "-expanding contractions\n",
    "-lemmatization\n",
    "-removing extra whitespaces\n",
    "\n",
    "Word Embedding\n",
    "\n",
    "-word embedding word2vec\n",
    "-CBOW... check words that take surrounding words as features.   Fire can mean an emergency depending on what are the previous or following words\n",
    "-bert embedding\n",
    "\n",
    "NER for location\n",
    "\n",
    "-NER (Named Entity recognition)\n",
    "-Put back emojis and exclamation and upper case\n",
    "-Transfer learning\n",
    "\n",
    "Modeling\n",
    "\n",
    "-CNN\n",
    "-Sentiment analysis to differentiate between emergencies an non-emergencies"
   ]
  },
  {
   "cell_type": "markdown",
   "id": "18f22f82-cccf-4489-99c2-7fc2e3dc9418",
   "metadata": {},
   "source": [
    "#### **Deployment method** ####"
   ]
  },
  {
   "cell_type": "raw",
   "id": "937bc400-a688-4bfb-a990-ed4a3ae94fd1",
   "metadata": {},
   "source": [
    "I'm going to use API.  Users can pass a sentence to the API and this will return 1 if it's an emergency or 0 if it's not."
   ]
  }
 ],
 "metadata": {
  "kernelspec": {
   "display_name": "Python 3 (ipykernel)",
   "language": "python",
   "name": "python3"
  },
  "language_info": {
   "codemirror_mode": {
    "name": "ipython",
    "version": 3
   },
   "file_extension": ".py",
   "mimetype": "text/x-python",
   "name": "python",
   "nbconvert_exporter": "python",
   "pygments_lexer": "ipython3",
   "version": "3.10.4"
  }
 },
 "nbformat": 4,
 "nbformat_minor": 5
}

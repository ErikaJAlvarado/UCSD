{
 "cells": [
  {
   "cell_type": "markdown",
   "id": "61e19aed-1955-4342-b55d-46556e52bfb0",
   "metadata": {},
   "source": [
    " # **Step 6: Survey Existing Research and Reproduce Available Solutions** #"
   ]
  },
  {
   "cell_type": "code",
   "execution_count": null,
   "id": "d98fba48-2fbe-4aa3-a3e6-584a1dd44c4b",
   "metadata": {},
   "outputs": [],
   "source": [
    "#https://www.researchgate.net/publication/279994960_Classification_of_emergency_situations_-_Klasifikacija_vanrednih_situacija\n",
    "#https://www.cs.uic.edu/~cornelia/papers/mlsc10.pdf\n",
    "#https://www.cs.uic.edu/~cornelia/papers/mlsc10.pdf\n",
    "#https://towardsdatascience.com/detecting-disaster-from-tweets-classical-ml-and-lstm-approach-4566871af5f7\n",
    "#https://deepnote.com/@abid/Disaster-tweet-classification-64278d77-b455-4fcb-b98a-076ff504a9ee\n"
   ]
  }
 ],
 "metadata": {
  "kernelspec": {
   "display_name": "Python 3 (ipykernel)",
   "language": "python",
   "name": "python3"
  },
  "language_info": {
   "codemirror_mode": {
    "name": "ipython",
    "version": 3
   },
   "file_extension": ".py",
   "mimetype": "text/x-python",
   "name": "python",
   "nbconvert_exporter": "python",
   "pygments_lexer": "ipython3",
   "version": "3.10.4"
  }
 },
 "nbformat": 4,
 "nbformat_minor": 5
}

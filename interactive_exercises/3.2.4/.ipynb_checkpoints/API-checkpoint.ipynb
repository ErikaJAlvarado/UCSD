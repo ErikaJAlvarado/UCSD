{
 "cells": [
  {
   "cell_type": "code",
   "execution_count": 4,
   "id": "b1f071ab-be55-4471-97ad-37fa7e3132ec",
   "metadata": {},
   "outputs": [],
   "source": [
    "import json\n",
    "import urllib.request"
   ]
  },
  {
   "cell_type": "code",
   "execution_count": 14,
   "id": "d103d54a-2ece-40d3-b406-31f3de79c791",
   "metadata": {},
   "outputs": [],
   "source": [
    "data = json.loads(urllib.request.urlopen(\"https://www.omdbapi.com/?t=Game+of+Thrones&Season=1&apikey=c9b9ef6\").read())\n"
   ]
  },
  {
   "cell_type": "code",
   "execution_count": 10,
   "id": "39e871f2-57c3-4a5b-b0fb-8137b54aad96",
   "metadata": {},
   "outputs": [
    {
     "name": "stdout",
     "output_type": "stream",
     "text": [
      "<class 'dict'>\n"
     ]
    }
   ],
   "source": [
    "print(type(data))"
   ]
  },
  {
   "cell_type": "code",
   "execution_count": 15,
   "id": "efc843f7-9e40-42ec-b8cf-ec70069e00e2",
   "metadata": {},
   "outputs": [
    {
     "data": {
      "text/plain": [
       "dict_keys(['Title', 'Season', 'totalSeasons', 'Episodes', 'Response'])"
      ]
     },
     "execution_count": 15,
     "metadata": {},
     "output_type": "execute_result"
    }
   ],
   "source": [
    "data.keys()"
   ]
  },
  {
   "cell_type": "code",
   "execution_count": 24,
   "id": "f5dea369-800a-410c-a17b-a81e313de571",
   "metadata": {},
   "outputs": [
    {
     "name": "stdout",
     "output_type": "stream",
     "text": [
      "Winter Is Coming 9.1\n",
      "The Kingsroad N/A\n",
      "Lord Snow 8.7\n",
      "Cripples, Bastards, and Broken Things 8.8\n",
      "The Wolf and the Lion 9.1\n",
      "A Golden Crown 9.2\n",
      "You Win or You Die 9.2\n",
      "The Pointy End 9.0\n",
      "Baelor 9.6\n",
      "Fire and Blood 9.5\n"
     ]
    }
   ],
   "source": [
    "for episode in data[\"Episodes\"]:\n",
    "    print(episode[\"Title\"],episode[\"imdbRating\"])"
   ]
  },
  {
   "cell_type": "code",
   "execution_count": 26,
   "id": "7d637700-b72b-49f9-8012-0c4bc99c23c6",
   "metadata": {},
   "outputs": [
    {
     "ename": "ModuleNotFoundError",
     "evalue": "No module named 'pandas'",
     "output_type": "error",
     "traceback": [
      "\u001b[0;31m---------------------------------------------------------------------------\u001b[0m",
      "\u001b[0;31mModuleNotFoundError\u001b[0m                       Traceback (most recent call last)",
      "\u001b[0;32m/tmp/ipykernel_12554/1006311630.py\u001b[0m in \u001b[0;36m<module>\u001b[0;34m\u001b[0m\n\u001b[1;32m      1\u001b[0m \u001b[0;31m#print(type(data[\"Episodes\"]))\u001b[0m\u001b[0;34m\u001b[0m\u001b[0;34m\u001b[0m\u001b[0;34m\u001b[0m\u001b[0m\n\u001b[0;32m----> 2\u001b[0;31m \u001b[0;32mimport\u001b[0m \u001b[0mpandas\u001b[0m \u001b[0;32mas\u001b[0m \u001b[0mpd\u001b[0m\u001b[0;34m\u001b[0m\u001b[0;34m\u001b[0m\u001b[0m\n\u001b[0m\u001b[1;32m      3\u001b[0m \u001b[0mdf\u001b[0m \u001b[0;34m=\u001b[0m \u001b[0mpd\u001b[0m\u001b[0;34m.\u001b[0m\u001b[0mDataframe\u001b[0m\u001b[0;34m.\u001b[0m\u001b[0mfrom_dic\u001b[0m\u001b[0;34m(\u001b[0m\u001b[0mdata\u001b[0m\u001b[0;34m[\u001b[0m\u001b[0;34m\"Episodes\"\u001b[0m\u001b[0;34m]\u001b[0m\u001b[0;34m)\u001b[0m\u001b[0;34m\u001b[0m\u001b[0;34m\u001b[0m\u001b[0m\n",
      "\u001b[0;31mModuleNotFoundError\u001b[0m: No module named 'pandas'"
     ]
    }
   ],
   "source": [
    "#print(type(data[\"Episodes\"]))\n",
    "import pandas as pd\n",
    "df = pd.Dataframe.from_dic(data[\"Episodes\"])"
   ]
  }
 ],
 "metadata": {
  "kernelspec": {
   "display_name": "Python 3 (ipykernel)",
   "language": "python",
   "name": "python3"
  },
  "language_info": {
   "codemirror_mode": {
    "name": "ipython",
    "version": 3
   },
   "file_extension": ".py",
   "mimetype": "text/x-python",
   "name": "python",
   "nbconvert_exporter": "python",
   "pygments_lexer": "ipython3",
   "version": "3.8.10"
  }
 },
 "nbformat": 4,
 "nbformat_minor": 5
}
